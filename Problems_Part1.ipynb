{
 "cells": [
  {
   "cell_type": "markdown",
   "metadata": {},
   "source": [
    "# Numbers"
   ]
  },
  {
   "cell_type": "code",
   "execution_count": 3,
   "metadata": {},
   "outputs": [
    {
     "name": "stdout",
     "output_type": "stream",
     "text": [
      "Please enter first number: 2\n",
      "Please enter second number: 0\n",
      "2 in the power of 0 is equal to 1\n"
     ]
    }
   ],
   "source": [
    "#Q1: Fast Exponentiation - Ask the user to enter 2 integers a and b and output a^b (i.e. pow(a,b)) in O(lg n) time complexity.\n",
    "a = int(input(\"Please enter first number: \"))\n",
    "b = int(input(\"Please enter second number: \"))\n",
    "res = a**b\n",
    "print(f\"{a} in the power of {b} is equal to {res}\")"
   ]
  },
  {
   "cell_type": "code",
   "execution_count": 24,
   "metadata": {},
   "outputs": [
    {
     "name": "stdout",
     "output_type": "stream",
     "text": [
      "How many times to flip the coin?: 9\n",
      "The coin was flipped 9 times, and 5 times it was tails, 4 times it was heads\n"
     ]
    }
   ],
   "source": [
    "#Q2: **Coin Flip Simulation** - Write some code that simulates flipping a single coin however many times the user decides. \n",
    "#The code should record the outcomes and count the number of tails and heads.\n",
    "import random\n",
    "tails = 0\n",
    "heads = 0\n",
    "times = int(input(\"How many times to flip the coin?: \"))\n",
    "\n",
    "for x in range(times):\n",
    "    coin = random.randint(0,1)\n",
    "    if coin == 1:\n",
    "        tails += 1\n",
    "    else:\n",
    "        heads += 1\n",
    "print(f\"The coin was flipped {times} times, and {tails} times it was tails, {heads} times it was heads\")"
   ]
  },
  {
   "cell_type": "code",
   "execution_count": null,
   "metadata": {},
   "outputs": [],
   "source": [
    "#Q3 **Happy Numbers** - A happy number is defined by the following process. \n",
    "#Starting with any positive integer, replace the number by the sum of the squares of its digits, \n",
    "#and repeat the process until the number equals 1 (where it will stay), \n",
    "#or it loops endlessly in a cycle which does not include 1. \n",
    "#Those numbers for which this process ends in 1 are happy numbers, while those that do not end in 1 are unhappy numbers. \n",
    "#Display an example of your output here. Find first 8 happy numbers."
   ]
  },
  {
   "cell_type": "code",
   "execution_count": 32,
   "metadata": {},
   "outputs": [],
   "source": [
    "def get_digits(num):\n",
    "    digits = []\n",
    "    while num >= 1:\n",
    "        digits.append(int(num%10))\n",
    "        num = num / 10\n",
    "    return digits[::-1]\n",
    "        "
   ]
  },
  {
   "cell_type": "code",
   "execution_count": 33,
   "metadata": {},
   "outputs": [
    {
     "data": {
      "text/plain": [
       "[1, 2, 3, 4, 5, 6, 7, 8, 9]"
      ]
     },
     "execution_count": 33,
     "metadata": {},
     "output_type": "execute_result"
    }
   ],
   "source": [
    "get_digits(123456789)"
   ]
  },
  {
   "cell_type": "code",
   "execution_count": 56,
   "metadata": {},
   "outputs": [],
   "source": [
    "\n",
    "def happy_num(number):\n",
    "    search = True\n",
    "    previous = []\n",
    "    while search == True:\n",
    "\n",
    "        digits = get_digits(number)\n",
    "        sum_of_sq = sum(list(map(lambda x: x**2 , digits)))\n",
    "\n",
    "        if sum_of_sq == 1:\n",
    "            return True\n",
    "        elif sum_of_sq in previous:\n",
    "            return False\n",
    "        else:\n",
    "            number = sum_of_sq\n",
    "            previous.append(number)\n"
   ]
  },
  {
   "cell_type": "code",
   "execution_count": 57,
   "metadata": {},
   "outputs": [
    {
     "name": "stdout",
     "output_type": "stream",
     "text": [
      "Please insert the positive integer to start from: 1\n",
      "[1, 7, 10, 13, 19, 23, 28, 31]\n"
     ]
    }
   ],
   "source": [
    "number = int(input(\"Please insert the positive integer to start from: \"))\n",
    "count = 0\n",
    "happy_nums = []\n",
    "while count < 8:\n",
    "    if happy_num(number):\n",
    "        happy_nums.append(number)\n",
    "        count += 1\n",
    "    number += 1\n",
    "print(happy_nums)"
   ]
  },
  {
   "cell_type": "markdown",
   "metadata": {},
   "source": [
    "# Classic Algorithms"
   ]
  },
  {
   "cell_type": "code",
   "execution_count": 62,
   "metadata": {},
   "outputs": [
    {
     "name": "stdout",
     "output_type": "stream",
     "text": [
      "Insert the starting number (greater than 1): 89\n",
      "It took 30 steps to reach 1\n"
     ]
    }
   ],
   "source": [
    "#Q1 Collatz Conjecture - Start with a number n > 1. Find the number of steps it takes to reach one using the following process: \n",
    "#If n is even, divide it by 2. If n is odd, multiply it by 3 and add 1.\n",
    "num = int(input(\"Insert the starting number (greater than 1): \"))\n",
    "step = 0\n",
    "while num != 1:\n",
    "    if num%2 == 0:\n",
    "        num = num /2\n",
    "    elif num%2 ==1:\n",
    "        num = num*3 + 1\n",
    "    step += 1\n",
    "    #print(num)\n",
    "print(f\"It took {step} steps to reach 1\")"
   ]
  },
  {
   "cell_type": "code",
   "execution_count": 63,
   "metadata": {},
   "outputs": [],
   "source": [
    "#Q2 Sieve of Eratosthenes - The sieve of Eratosthenes is one of the most \n",
    "#efficient ways to find all of the smaller primes (below 10 million or so).\n"
   ]
  },
  {
   "cell_type": "code",
   "execution_count": 66,
   "metadata": {},
   "outputs": [],
   "source": [
    "def is_prime(num):\n",
    "    prime = True\n",
    "    if num == 1 : return prime\n",
    "    \n",
    "    for x in range(2,num):\n",
    "        if num % x == 0:\n",
    "            prime = False\n",
    "    return prime"
   ]
  },
  {
   "cell_type": "code",
   "execution_count": 86,
   "metadata": {},
   "outputs": [
    {
     "name": "stdout",
     "output_type": "stream",
     "text": [
      "Enter the number: 0.3\n",
      "Please enter an integer\n",
      "Enter the number: 6\n",
      "[0, 1, 2, 3, 5]\n"
     ]
    }
   ],
   "source": [
    "trying = True\n",
    "while trying:\n",
    "    try:\n",
    "        num  = int(input(\"Enter the number: \"))\n",
    "        primes = []\n",
    "        for x in range(num):\n",
    "            #print(x)\n",
    "            if is_prime(x):\n",
    "                primes.append(x)\n",
    "        print(primes)\n",
    "        trying = False\n",
    "    except: \n",
    "        print(\"Please enter an integer\")\n",
    "        trying = True"
   ]
  },
  {
   "cell_type": "code",
   "execution_count": 81,
   "metadata": {},
   "outputs": [
    {
     "data": {
      "text/plain": [
       "\"\\nSieve of Eratosthenes -\\nIt is a simple, ancient algorithm\\nfor finding all prime numbers up to any given limit.\\nIt does so by iteratively marking as composite (i.e. not prime),\\nthe multiples of each prime, starting with the multiples of 2.\\n\\n\\ndef sieve(n):\\n  is_prime = [False] * 2 + [True] * (n - 1) \\n  for i in xrange(int(n**0.5 + 1.5)): # stop at ``sqrt(n)``\\n      if is_prime[i]:\\n          for j in xrange(i*i, n+1, i):\\n              is_prime[j] = False\\n  return [i for i, prime in enumerate(is_prime) if prime]\\n\\ndef main():\\n  try:\\n      n = int(raw_input('Enter a number: '))\\n      print sieve(n)\\n  except ValueError:\\n      print 'Enter only an integer value, n > 1.'\\n      main()\\n      \\nif __name__ == '__main__':\\n  main()\\n\""
      ]
     },
     "execution_count": 81,
     "metadata": {},
     "output_type": "execute_result"
    }
   ],
   "source": [
    "  #solution from github\n",
    "\"\"\"\n",
    "Sieve of Eratosthenes -\n",
    "It is a simple, ancient algorithm\n",
    "for finding all prime numbers up to any given limit.\n",
    "It does so by iteratively marking as composite (i.e. not prime),\n",
    "the multiples of each prime, starting with the multiples of 2.\n",
    "\n",
    "\n",
    "def sieve(n):\n",
    "    is_prime = [False] * 2 + [True] * (n - 1) \n",
    "    for i in xrange(int(n**0.5 + 1.5)): # stop at ``sqrt(n)``\n",
    "        if is_prime[i]:\n",
    "            for j in xrange(i*i, n+1, i):\n",
    "                is_prime[j] = False\n",
    "    return [i for i, prime in enumerate(is_prime) if prime]\n",
    "\n",
    "def main():\n",
    "    try:\n",
    "        n = int(raw_input('Enter a number: '))\n",
    "        print sieve(n)\n",
    "    except ValueError:\n",
    "        print 'Enter only an integer value, n > 1.'\n",
    "        main()\n",
    "        \n",
    "if __name__ == '__main__':\n",
    "    main()\n",
    "\"\"\""
   ]
  },
  {
   "cell_type": "code",
   "execution_count": 87,
   "metadata": {},
   "outputs": [],
   "source": [
    "#Q3 Closest pair problem - The closest pair of points problem or closest pair problem is a problem of computational geometry:\n",
    "#given n points in metric space, find a pair of points with the smallest distance between them."
   ]
  },
  {
   "cell_type": "code",
   "execution_count": 1,
   "metadata": {},
   "outputs": [],
   "source": [
    "def get_distance(x1,y1,x2,y2):\n",
    "    distance = ((x2-x1)**2 + (y2-y1)**2)**0.5\n",
    "    return distance"
   ]
  },
  {
   "cell_type": "code",
   "execution_count": 28,
   "metadata": {},
   "outputs": [
    {
     "name": "stdout",
     "output_type": "stream",
     "text": [
      "How many point do you want to enter?: 4\n",
      "X coordinate of the point 0: 1.0\n",
      "Y coordinate of the point 0: 1.2\n",
      "X coordinate of the point 1: 1.1\n",
      "Y coordinate of the point 1: 1.2\n",
      "X coordinate of the point 2: 6.5\n",
      "Y coordinate of the point 2: 6.9\n",
      "X coordinate of the point 3: 89.5\n",
      "Y coordinate of the point 3: 85.6\n",
      "[[1.0, 1.2], [1.1, 1.2], [6.5, 6.9], [89.5, 85.6]]\n"
     ]
    }
   ],
   "source": [
    "n = int(input(\"How many point do you want to enter?: \"))\n",
    "\n",
    "points =[]\n",
    "for coor in range(n):\n",
    "    x = float(input(f\"X coordinate of the point {coor}: \"))\n",
    "    y = float(input(f\"Y coordinate of the point {coor}: \"))\n",
    "    points.append([x,y])\n",
    "    \n",
    "#print(points)\n",
    "\n",
    "pairs = dict()\n",
    "#points = [(x1,y1),(x2,y2),(x3,y3)]\n",
    "for i1 in range(len(points)):\n",
    "    for i2 in range(i1, len(points)):\n",
    "        if i1 != i2:\n",
    "            pairs[i1,i2] = round(get_distance(points[i1][0],points[i1][1],points[i2][0],points[i2][1]),3)\n",
    "\n",
    "p1, p2= min(pairs, key=pairs.get)\n",
    "print(f\"The minimum distance is between point {p1} and {p2}\")"
   ]
  },
  {
   "cell_type": "markdown",
   "metadata": {},
   "source": [
    "# Graph"
   ]
  },
  {
   "cell_type": "markdown",
   "metadata": {},
   "source": [
    "I found exercises provided by the instructor way too much difficult and I have decided just to learn how to plot graphs from the very beginning"
   ]
  },
  {
   "cell_type": "code",
   "execution_count": 43,
   "metadata": {},
   "outputs": [],
   "source": [
    "#Q1 Make a graph using Python"
   ]
  },
  {
   "cell_type": "code",
   "execution_count": 47,
   "metadata": {},
   "outputs": [
    {
     "data": {
      "image/png": "[encoded data removed]",
      "text/plain": [
       "<Figure size 432x288 with 1 Axes>"
      ]
     },
     "metadata": {
      "needs_background": "light"
     },
     "output_type": "display_data"
    }
   ],
   "source": [
    "# importing the required module \n",
    "import matplotlib.pyplot as plt \n",
    "  \n",
    "# x axis values \n",
    "x = [1,2,-2] \n",
    "# corresponding y axis values \n",
    "y = [1,-2,1] \n",
    "  \n",
    "# plotting the points  \n",
    "plt.plot(x, y) \n",
    "  \n",
    "# naming the x axis \n",
    "plt.xlabel('x - axis') \n",
    "# naming the y axis \n",
    "plt.ylabel('y - axis') \n",
    "  \n",
    "# giving a title to my graph \n",
    "plt.title('My first graph!') \n",
    "  \n",
    "# function to show the plot \n",
    "plt.show()"
   ]
  },
  {
   "cell_type": "code",
   "execution_count": null,
   "metadata": {},
   "outputs": [],
   "source": [
    "#Q2 Plot 2 lines, colored and styled differently on the same plot"
   ]
  },
  {
   "cell_type": "code",
   "execution_count": 50,
   "metadata": {},
   "outputs": [
    {
     "data": {
      "image/png": "[encoded data removed]",
      "text/plain": [
       "<Figure size 432x288 with 1 Axes>"
      ]
     },
     "metadata": {
      "needs_background": "light"
     },
     "output_type": "display_data"
    }
   ],
   "source": [
    "x1 = [1,2,3,6,7,9]\n",
    "y1 = [2,1,8,2,3,4]\n",
    "plt.plot(x1,y1,label = \"Line 1\",color = \"red\", linestyle = \"dashed\")\n",
    "\n",
    "x2 = [9,8,5,3,6,4]\n",
    "y2= [-5,-3,-2,-1,5,-2]\n",
    "plt.plot(x2,y2,label = \"Line 2\", color = \"green\", marker = \"*\", markerfacecolor = \"black\")\n",
    "\n",
    "plt.xlim(1,10)\n",
    "plt.ylim(-6,10)\n",
    "\n",
    "plt.xlabel(\"x - axis\")\n",
    "plt.ylabel(\"y - axis\")\n",
    "\n",
    "plt.title(\"New graph! Yey\")\n",
    "\n",
    "plt.show()"
   ]
  },
  {
   "cell_type": "code",
   "execution_count": 51,
   "metadata": {},
   "outputs": [],
   "source": [
    "#Q3 Plot Bar chart"
   ]
  },
  {
   "cell_type": "code",
   "execution_count": 55,
   "metadata": {},
   "outputs": [
    {
     "data": {
      "image/png": "[encoded data removed]",
      "text/plain": [
       "<Figure size 432x288 with 1 Axes>"
      ]
     },
     "metadata": {
      "needs_background": "light"
     },
     "output_type": "display_data"
    }
   ],
   "source": [
    "position = [1,2,4,8]\n",
    "height = [10,60,50,25]\n",
    "labels = [\"osek\", \"otirik\", \"maqtanshaq\",\"malshashpaq\"]\n",
    "colors = [\"black\", \"blue\", \"yellow\", \"red\"]\n",
    "plt.bar(position, height,tick_label = labels, width = 1, color = colors)\n",
    "\n",
    "plt.xlabel(\"adamdar\")\n",
    "plt.ylabel(\"sany\")\n",
    "\n",
    "plt.title(\"Otirik Graph\")\n",
    "plt.show()"
   ]
  },
  {
   "cell_type": "code",
   "execution_count": 56,
   "metadata": {},
   "outputs": [],
   "source": [
    "#Q3 Plot the equation\n"
   ]
  },
  {
   "cell_type": "code",
   "execution_count": 62,
   "metadata": {},
   "outputs": [
    {
     "data": {
      "image/png": "[encoded data removed]",
      "text/plain": [
       "<Figure size 432x288 with 1 Axes>"
      ]
     },
     "metadata": {
      "needs_background": "light"
     },
     "output_type": "display_data"
    }
   ],
   "source": [
    "import numpy \n",
    "x = numpy.arange(0, 2*(np.pi),0.1)\n",
    "y = numpy.sin(x)\n",
    "\n",
    "plt.plot(x,y,label = \"Sin\")\n",
    "plt.plot(x,numpy.cos(x),label = \"Cos\")\n",
    "plt.legend()\n",
    "plt.show()"
   ]
  },
  {
   "cell_type": "markdown",
   "metadata": {},
   "source": [
    "# Data Structures"
   ]
  },
  {
   "cell_type": "markdown",
   "metadata": {},
   "source": [
    "Q: Inverted index - An Inverted Index is a data structure used to create full text search. Given a set of text files, implement a program to create an inverted index. Also create a user interface to do a search using that inverted index which returns a list of files that contain the query term / terms. The search index can be in memory."
   ]
  },
  {
   "cell_type": "code",
   "execution_count": 63,
   "metadata": {},
   "outputs": [],
   "source": [
    "pass\n",
    "# LATER CONTINUE"
   ]
  },
  {
   "cell_type": "markdown",
   "metadata": {},
   "source": [
    "# Texts"
   ]
  },
  {
   "cell_type": "code",
   "execution_count": null,
   "metadata": {},
   "outputs": [],
   "source": []
  }
 ],
 "metadata": {
  "kernelspec": {
   "display_name": "Python 3",
   "language": "python",
   "name": "python3"
  },
  "language_info": {
   "codemirror_mode": {
    "name": "ipython",
    "version": 3
   },
   "file_extension": ".py",
   "mimetype": "text/x-python",
   "name": "python",
   "nbconvert_exporter": "python",
   "pygments_lexer": "ipython3",
   "version": "3.8.3"
  }
 },
 "nbformat": 4,
 "nbformat_minor": 4
}
